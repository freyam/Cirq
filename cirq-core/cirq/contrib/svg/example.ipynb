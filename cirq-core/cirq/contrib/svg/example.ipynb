{
 "cells": [
  {
   "cell_type": "code",
   "execution_count": 1,
   "source": [
    "try:\n",
    "    import cirq\n",
    "except ImportError:\n",
    "    print(\"installing cirq...\")\n",
    "    !pip install --quiet cirq\n",
    "    print(\"installed cirq.\")"
   ],
   "outputs": [],
   "metadata": {
    "id": "bd9529db1c0b"
   }
  },
  {
   "cell_type": "code",
   "execution_count": 2,
   "source": [
    "import cirq\n",
    "from cirq.contrib.svg import SVGCircuit"
   ],
   "outputs": [],
   "metadata": {}
  },
  {
   "cell_type": "code",
   "execution_count": 3,
   "source": [
    "a, b, c = cirq.LineQubit.range(3)\n",
    "SVGCircuit(cirq.Circuit(\n",
    "    cirq.CNOT(a, b),\n",
    "    cirq.CZ(b, c),\n",
    "    cirq.SWAP(a, c),\n",
    "    cirq.PhasedXPowGate(exponent=0.123, phase_exponent=0.456).on(c),\n",
    "    cirq.Z(a),\n",
    "    cirq.measure(a, b, c, key='z')\n",
    "))"
   ],
   "outputs": [
    {
     "output_type": "execute_result",
     "data": {
      "image/svg+xml": "<svg xmlns=\"http://www.w3.org/2000/svg\" width=\"482.4951171875\" height=\"150.0\"><line x1=\"30.0\" x2=\"452.4951171875\" y1=\"25.0\" y2=\"25.0\" stroke=\"#1967d2\" stroke-width=\"1\" /><line x1=\"30.0\" x2=\"452.4951171875\" y1=\"75.0\" y2=\"75.0\" stroke=\"#1967d2\" stroke-width=\"1\" /><line x1=\"30.0\" x2=\"452.4951171875\" y1=\"125.0\" y2=\"125.0\" stroke=\"#1967d2\" stroke-width=\"1\" /><line x1=\"90.0\" x2=\"90.0\" y1=\"25.0\" y2=\"75.0\" stroke=\"black\" stroke-width=\"3\" /><line x1=\"150.0\" x2=\"150.0\" y1=\"75.0\" y2=\"125.0\" stroke=\"black\" stroke-width=\"3\" /><line x1=\"210.0\" x2=\"210.0\" y1=\"25.0\" y2=\"125.0\" stroke=\"black\" stroke-width=\"3\" /><line x1=\"411.6015625\" x2=\"411.6015625\" y1=\"25.0\" y2=\"125.0\" stroke=\"black\" stroke-width=\"3\" /><rect x=\"10.0\" y=\"5.0\" width=\"40\" height=\"40\" stroke=\"black\" fill=\"white\" stroke-width=\"0\" /><text x=\"30.0\" y=\"25.0\" dominant-baseline=\"middle\" text-anchor=\"middle\" font-size=\"14px\" font-family=\"Arial\">0: </text><rect x=\"10.0\" y=\"55.0\" width=\"40\" height=\"40\" stroke=\"black\" fill=\"white\" stroke-width=\"0\" /><text x=\"30.0\" y=\"75.0\" dominant-baseline=\"middle\" text-anchor=\"middle\" font-size=\"14px\" font-family=\"Arial\">1: </text><rect x=\"10.0\" y=\"105.0\" width=\"40\" height=\"40\" stroke=\"black\" fill=\"white\" stroke-width=\"0\" /><text x=\"30.0\" y=\"125.0\" dominant-baseline=\"middle\" text-anchor=\"middle\" font-size=\"14px\" font-family=\"Arial\">2: </text><circle cx=\"90.0\" cy=\"25.0\" r=\"10.0\" /><rect x=\"70.0\" y=\"55.0\" width=\"40\" height=\"40\" stroke=\"black\" fill=\"white\" stroke-width=\"1\" /><text x=\"90.0\" y=\"75.0\" dominant-baseline=\"middle\" text-anchor=\"middle\" font-size=\"18px\" font-family=\"Arial\">X</text><circle cx=\"150.0\" cy=\"75.0\" r=\"10.0\" /><circle cx=\"150.0\" cy=\"125.0\" r=\"10.0\" /><text x=\"210.0\" y=\"28.0\" dominant-baseline=\"middle\" text-anchor=\"middle\" font-size=\"40px\" font-family=\"Arial\">×</text><text x=\"210.0\" y=\"128.0\" dominant-baseline=\"middle\" text-anchor=\"middle\" font-size=\"40px\" font-family=\"Arial\">×</text><rect x=\"250.0\" y=\"105.0\" width=\"120.7080078125\" height=\"40\" stroke=\"black\" fill=\"white\" stroke-width=\"1\" /><text x=\"310.35400390625\" y=\"125.0\" dominant-baseline=\"middle\" text-anchor=\"middle\" font-size=\"14px\" font-family=\"Arial\">PhX(0.456)^0.123</text><rect x=\"250.0\" y=\"5.0\" width=\"120.7080078125\" height=\"40\" stroke=\"black\" fill=\"white\" stroke-width=\"1\" /><text x=\"310.35400390625\" y=\"25.0\" dominant-baseline=\"middle\" text-anchor=\"middle\" font-size=\"18px\" font-family=\"Arial\">Z</text><rect x=\"390.7080078125\" y=\"5.0\" width=\"41.787109375\" height=\"40\" stroke=\"black\" fill=\"white\" stroke-width=\"1\" /><text x=\"411.6015625\" y=\"25.0\" dominant-baseline=\"middle\" text-anchor=\"middle\" font-size=\"14px\" font-family=\"Arial\">M('z')</text><rect x=\"390.7080078125\" y=\"55.0\" width=\"41.787109375\" height=\"40\" stroke=\"black\" fill=\"white\" stroke-width=\"1\" /><text x=\"411.6015625\" y=\"75.0\" dominant-baseline=\"middle\" text-anchor=\"middle\" font-size=\"18px\" font-family=\"Arial\">M</text><rect x=\"390.7080078125\" y=\"105.0\" width=\"41.787109375\" height=\"40\" stroke=\"black\" fill=\"white\" stroke-width=\"1\" /><text x=\"411.6015625\" y=\"125.0\" dominant-baseline=\"middle\" text-anchor=\"middle\" font-size=\"18px\" font-family=\"Arial\">M</text></svg>",
      "text/plain": [
       "<cirq.contrib.svg.svg.SVGCircuit at 0x7f178a62df40>"
      ]
     },
     "metadata": {},
     "execution_count": 3
    }
   ],
   "metadata": {}
  },
  {
   "cell_type": "code",
   "execution_count": 4,
   "source": [
    "SVGCircuit(cirq.Circuit(\n",
    "    cirq.CNOT(cirq.GridQubit(0,0), cirq.GridQubit(0,1)),\n",
    "    cirq.CNOT(cirq.GridQubit(1,0), cirq.GridQubit(1,1)),\n",
    "    cirq.CNOT(cirq.GridQubit(0,0), cirq.GridQubit(1,0)),\n",
    "    cirq.CNOT(cirq.GridQubit(0,1), cirq.GridQubit(1,1)),\n",
    "    cirq.CNOT(cirq.GridQubit(0,0), cirq.GridQubit(0,1)),\n",
    "    cirq.CNOT(cirq.GridQubit(1,0), cirq.GridQubit(1,1)),\n",
    "    cirq.CNOT(cirq.GridQubit(0,0), cirq.GridQubit(1,0)),\n",
    "    cirq.CNOT(cirq.GridQubit(0,1), cirq.GridQubit(1,1)),\n",
    "))"
   ],
   "outputs": [
    {
     "output_type": "execute_result",
     "data": {
      "image/svg+xml": "<svg xmlns=\"http://www.w3.org/2000/svg\" width=\"424.49359375\" height=\"240.0\"><line x1=\"32.246796875\" x2=\"394.49359375\" y1=\"45.0\" y2=\"45.0\" stroke=\"#1967d2\" stroke-width=\"1\" /><line x1=\"32.246796875\" x2=\"394.49359375\" y1=\"95.0\" y2=\"95.0\" stroke=\"#1967d2\" stroke-width=\"1\" /><line x1=\"32.246796875\" x2=\"394.49359375\" y1=\"145.0\" y2=\"145.0\" stroke=\"#1967d2\" stroke-width=\"1\" /><line x1=\"32.246796875\" x2=\"394.49359375\" y1=\"195.0\" y2=\"195.0\" stroke=\"#1967d2\" stroke-width=\"1\" /><line x1=\"284.49359375\" x2=\"374.49359375\" y1=\"5.0\" y2=\"5.0\" stroke=\"black\" stroke-width=\"1\" /><line x1=\"284.49359375\" x2=\"374.49359375\" y1=\"235.0\" y2=\"235.0\" stroke=\"black\" stroke-width=\"1\" /><line x1=\"124.49359375\" x2=\"214.49359375\" y1=\"5.0\" y2=\"5.0\" stroke=\"black\" stroke-width=\"1\" /><line x1=\"124.49359375\" x2=\"214.49359375\" y1=\"235.0\" y2=\"235.0\" stroke=\"black\" stroke-width=\"1\" /><line x1=\"94.49359375\" x2=\"94.49359375\" y1=\"45.0\" y2=\"95.0\" stroke=\"black\" stroke-width=\"3\" /><line x1=\"94.49359375\" x2=\"94.49359375\" y1=\"145.0\" y2=\"195.0\" stroke=\"black\" stroke-width=\"3\" /><line x1=\"144.49359375\" x2=\"144.49359375\" y1=\"45.0\" y2=\"145.0\" stroke=\"black\" stroke-width=\"3\" /><line x1=\"184.49359375\" x2=\"184.49359375\" y1=\"95.0\" y2=\"195.0\" stroke=\"black\" stroke-width=\"3\" /><line x1=\"254.49359375\" x2=\"254.49359375\" y1=\"45.0\" y2=\"95.0\" stroke=\"black\" stroke-width=\"3\" /><line x1=\"254.49359375\" x2=\"254.49359375\" y1=\"145.0\" y2=\"195.0\" stroke=\"black\" stroke-width=\"3\" /><line x1=\"304.49359375\" x2=\"304.49359375\" y1=\"45.0\" y2=\"145.0\" stroke=\"black\" stroke-width=\"3\" /><line x1=\"344.49359375\" x2=\"344.49359375\" y1=\"95.0\" y2=\"195.0\" stroke=\"black\" stroke-width=\"3\" /><line x1=\"284.49359375\" x2=\"284.49359375\" y1=\"5.0\" y2=\"15.0\" stroke=\"black\" stroke-width=\"3\" /><line x1=\"374.49359375\" x2=\"374.49359375\" y1=\"5.0\" y2=\"15.0\" stroke=\"black\" stroke-width=\"3\" /><line x1=\"284.49359375\" x2=\"284.49359375\" y1=\"225.0\" y2=\"235.0\" stroke=\"black\" stroke-width=\"3\" /><line x1=\"374.49359375\" x2=\"374.49359375\" y1=\"225.0\" y2=\"235.0\" stroke=\"black\" stroke-width=\"3\" /><line x1=\"124.49359375\" x2=\"124.49359375\" y1=\"5.0\" y2=\"15.0\" stroke=\"black\" stroke-width=\"3\" /><line x1=\"214.49359375\" x2=\"214.49359375\" y1=\"5.0\" y2=\"15.0\" stroke=\"black\" stroke-width=\"3\" /><line x1=\"124.49359375\" x2=\"124.49359375\" y1=\"225.0\" y2=\"235.0\" stroke=\"black\" stroke-width=\"3\" /><line x1=\"214.49359375\" x2=\"214.49359375\" y1=\"225.0\" y2=\"235.0\" stroke=\"black\" stroke-width=\"3\" /><rect x=\"10.0\" y=\"25.0\" width=\"44.49359375\" height=\"40\" stroke=\"black\" fill=\"white\" stroke-width=\"0\" /><text x=\"32.246796875\" y=\"45.0\" dominant-baseline=\"middle\" text-anchor=\"middle\" font-size=\"14px\" font-family=\"Arial\">(0, 0): </text><rect x=\"10.0\" y=\"75.0\" width=\"44.49359375\" height=\"40\" stroke=\"black\" fill=\"white\" stroke-width=\"0\" /><text x=\"32.246796875\" y=\"95.0\" dominant-baseline=\"middle\" text-anchor=\"middle\" font-size=\"14px\" font-family=\"Arial\">(0, 1): </text><rect x=\"10.0\" y=\"125.0\" width=\"44.49359375\" height=\"40\" stroke=\"black\" fill=\"white\" stroke-width=\"0\" /><text x=\"32.246796875\" y=\"145.0\" dominant-baseline=\"middle\" text-anchor=\"middle\" font-size=\"14px\" font-family=\"Arial\">(1, 0): </text><rect x=\"10.0\" y=\"175.0\" width=\"44.49359375\" height=\"40\" stroke=\"black\" fill=\"white\" stroke-width=\"0\" /><text x=\"32.246796875\" y=\"195.0\" dominant-baseline=\"middle\" text-anchor=\"middle\" font-size=\"14px\" font-family=\"Arial\">(1, 1): </text><circle cx=\"94.49359375\" cy=\"45.0\" r=\"10.0\" /><rect x=\"74.49359375\" y=\"75.0\" width=\"40\" height=\"40\" stroke=\"black\" fill=\"white\" stroke-width=\"1\" /><text x=\"94.49359375\" y=\"95.0\" dominant-baseline=\"middle\" text-anchor=\"middle\" font-size=\"18px\" font-family=\"Arial\">X</text><circle cx=\"94.49359375\" cy=\"145.0\" r=\"10.0\" /><rect x=\"74.49359375\" y=\"175.0\" width=\"40\" height=\"40\" stroke=\"black\" fill=\"white\" stroke-width=\"1\" /><text x=\"94.49359375\" y=\"195.0\" dominant-baseline=\"middle\" text-anchor=\"middle\" font-size=\"18px\" font-family=\"Arial\">X</text><circle cx=\"144.49359375\" cy=\"45.0\" r=\"10.0\" /><rect x=\"124.49359375\" y=\"125.0\" width=\"40\" height=\"40\" stroke=\"black\" fill=\"white\" stroke-width=\"1\" /><text x=\"144.49359375\" y=\"145.0\" dominant-baseline=\"middle\" text-anchor=\"middle\" font-size=\"18px\" font-family=\"Arial\">X</text><circle cx=\"184.49359375\" cy=\"95.0\" r=\"10.0\" /><rect x=\"164.49359375\" y=\"175.0\" width=\"40\" height=\"40\" stroke=\"black\" fill=\"white\" stroke-width=\"1\" /><text x=\"184.49359375\" y=\"195.0\" dominant-baseline=\"middle\" text-anchor=\"middle\" font-size=\"18px\" font-family=\"Arial\">X</text><circle cx=\"254.49359375\" cy=\"45.0\" r=\"10.0\" /><rect x=\"234.49359375\" y=\"75.0\" width=\"40\" height=\"40\" stroke=\"black\" fill=\"white\" stroke-width=\"1\" /><text x=\"254.49359375\" y=\"95.0\" dominant-baseline=\"middle\" text-anchor=\"middle\" font-size=\"18px\" font-family=\"Arial\">X</text><circle cx=\"254.49359375\" cy=\"145.0\" r=\"10.0\" /><rect x=\"234.49359375\" y=\"175.0\" width=\"40\" height=\"40\" stroke=\"black\" fill=\"white\" stroke-width=\"1\" /><text x=\"254.49359375\" y=\"195.0\" dominant-baseline=\"middle\" text-anchor=\"middle\" font-size=\"18px\" font-family=\"Arial\">X</text><circle cx=\"304.49359375\" cy=\"45.0\" r=\"10.0\" /><rect x=\"284.49359375\" y=\"125.0\" width=\"40\" height=\"40\" stroke=\"black\" fill=\"white\" stroke-width=\"1\" /><text x=\"304.49359375\" y=\"145.0\" dominant-baseline=\"middle\" text-anchor=\"middle\" font-size=\"18px\" font-family=\"Arial\">X</text><circle cx=\"344.49359375\" cy=\"95.0\" r=\"10.0\" /><rect x=\"324.49359375\" y=\"175.0\" width=\"40\" height=\"40\" stroke=\"black\" fill=\"white\" stroke-width=\"1\" /><text x=\"344.49359375\" y=\"195.0\" dominant-baseline=\"middle\" text-anchor=\"middle\" font-size=\"18px\" font-family=\"Arial\">X</text></svg>",
      "text/plain": [
       "<cirq.contrib.svg.svg.SVGCircuit at 0x7f178a5ef940>"
      ]
     },
     "metadata": {},
     "execution_count": 4
    }
   ],
   "metadata": {}
  }
 ],
 "metadata": {
  "kernelspec": {
   "name": "python3",
   "display_name": "Python 3.8.5 64-bit ('qdev': conda)"
  },
  "language_info": {
   "codemirror_mode": {
    "name": "ipython",
    "version": 3
   },
   "file_extension": ".py",
   "mimetype": "text/x-python",
   "name": "python",
   "nbconvert_exporter": "python",
   "pygments_lexer": "ipython3",
   "version": "3.8.5"
  },
  "interpreter": {
   "hash": "220d3178c6e966d2ac80709dfa60cf34f328a3e7f9db8d724cad1b9f3cd3a337"
  }
 },
 "nbformat": 4,
 "nbformat_minor": 2
}